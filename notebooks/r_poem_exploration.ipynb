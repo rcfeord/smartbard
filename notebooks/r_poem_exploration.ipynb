{
 "cells": [
  {
   "cell_type": "code",
   "execution_count": 2,
   "metadata": {},
   "outputs": [],
   "source": [
    "import pandas as pd\n",
    "import numpy as np"
   ]
  },
  {
   "cell_type": "code",
   "execution_count": 3,
   "metadata": {},
   "outputs": [],
   "source": [
    "df = pd.read_json('../raw_data/limerick_dataset_oedilf_v3.json')"
   ]
  },
  {
   "cell_type": "code",
   "execution_count": 4,
   "metadata": {},
   "outputs": [
    {
     "data": {
      "text/html": [
       "<div>\n",
       "<style scoped>\n",
       "    .dataframe tbody tr th:only-of-type {\n",
       "        vertical-align: middle;\n",
       "    }\n",
       "\n",
       "    .dataframe tbody tr th {\n",
       "        vertical-align: top;\n",
       "    }\n",
       "\n",
       "    .dataframe thead th {\n",
       "        text-align: right;\n",
       "    }\n",
       "</style>\n",
       "<table border=\"1\" class=\"dataframe\">\n",
       "  <thead>\n",
       "    <tr style=\"text-align: right;\">\n",
       "      <th></th>\n",
       "      <th>author</th>\n",
       "      <th>limerick</th>\n",
       "      <th>id</th>\n",
       "      <th>is_limerick</th>\n",
       "    </tr>\n",
       "  </thead>\n",
       "  <tbody>\n",
       "    <tr>\n",
       "      <th>0</th>\n",
       "      <td>Chris J. Strolin</td>\n",
       "      <td>The very first word here is a.\\nIt's used with...</td>\n",
       "      <td>1</td>\n",
       "      <td>False</td>\n",
       "    </tr>\n",
       "    <tr>\n",
       "      <th>1</th>\n",
       "      <td>BobHale</td>\n",
       "      <td>\"I'm really hon'rably intentioned,\"\\nHe said t...</td>\n",
       "      <td>2</td>\n",
       "      <td>False</td>\n",
       "    </tr>\n",
       "    <tr>\n",
       "      <th>2</th>\n",
       "      <td>Richard English</td>\n",
       "      <td>If a bovine in some leafy glade\\nShould swallo...</td>\n",
       "      <td>3</td>\n",
       "      <td>True</td>\n",
       "    </tr>\n",
       "    <tr>\n",
       "      <th>3</th>\n",
       "      <td>Tim Alborn</td>\n",
       "      <td>The ham-handed chef at IHOP\\nLost his grip, an...</td>\n",
       "      <td>4</td>\n",
       "      <td>False</td>\n",
       "    </tr>\n",
       "    <tr>\n",
       "      <th>4</th>\n",
       "      <td>Virge</td>\n",
       "      <td>Our abode, dear (that place with the smell),\\n...</td>\n",
       "      <td>5</td>\n",
       "      <td>True</td>\n",
       "    </tr>\n",
       "  </tbody>\n",
       "</table>\n",
       "</div>"
      ],
      "text/plain": [
       "             author                                           limerick  id  \\\n",
       "0  Chris J. Strolin  The very first word here is a.\\nIt's used with...   1   \n",
       "1           BobHale  \"I'm really hon'rably intentioned,\"\\nHe said t...   2   \n",
       "2   Richard English  If a bovine in some leafy glade\\nShould swallo...   3   \n",
       "3        Tim Alborn  The ham-handed chef at IHOP\\nLost his grip, an...   4   \n",
       "4             Virge  Our abode, dear (that place with the smell),\\n...   5   \n",
       "\n",
       "   is_limerick  \n",
       "0        False  \n",
       "1        False  \n",
       "2         True  \n",
       "3        False  \n",
       "4         True  "
      ]
     },
     "execution_count": 4,
     "metadata": {},
     "output_type": "execute_result"
    }
   ],
   "source": [
    "df.head()"
   ]
  },
  {
   "cell_type": "code",
   "execution_count": 7,
   "metadata": {},
   "outputs": [],
   "source": [
    "true_limerick_df = df[df.is_limerick == True]"
   ]
  },
  {
   "cell_type": "code",
   "execution_count": 8,
   "metadata": {},
   "outputs": [
    {
     "name": "stdout",
     "output_type": "stream",
     "text": [
      "(98454, 4)\n",
      "(65886, 4)\n"
     ]
    }
   ],
   "source": [
    "print(df.shape)\n",
    "print(true_limerick_df.shape)"
   ]
  },
  {
   "cell_type": "code",
   "execution_count": 18,
   "metadata": {},
   "outputs": [
    {
     "data": {
      "text/plain": [
       "329430"
      ]
     },
     "execution_count": 18,
     "metadata": {},
     "output_type": "execute_result"
    }
   ],
   "source": [
    "lines = []\n",
    "\n",
    "for i in range(len(true_limerick_df)):\n",
    "    verses = true_limerick_df['limerick'].iloc[0].split('\\n')\n",
    "\n",
    "    for verse in verses:\n",
    "        lines.append(verse)\n",
    "        \n",
    "len(lines)\n"
   ]
  },
  {
   "cell_type": "code",
   "execution_count": 2,
   "metadata": {},
   "outputs": [
    {
     "data": {
      "text/plain": [
       "329430"
      ]
     },
     "execution_count": 2,
     "metadata": {},
     "output_type": "execute_result"
    }
   ],
   "source": [
    "from data_processing.format_data import extract_lines\n",
    "\n",
    "file_path = '../raw_data/limerick_dataset_oedilf_v3.json'\n",
    "lines2 = extract_lines(file_path)\n",
    "len(lines2)"
   ]
  },
  {
   "cell_type": "code",
   "execution_count": null,
   "metadata": {},
   "outputs": [],
   "source": []
  }
 ],
 "metadata": {
  "kernelspec": {
   "display_name": "Python 3.10.6 64-bit ('smartbard')",
   "language": "python",
   "name": "python3"
  },
  "language_info": {
   "codemirror_mode": {
    "name": "ipython",
    "version": 3
   },
   "file_extension": ".py",
   "mimetype": "text/x-python",
   "name": "python",
   "nbconvert_exporter": "python",
   "pygments_lexer": "ipython3",
   "version": "3.10.6"
  },
  "orig_nbformat": 4,
  "vscode": {
   "interpreter": {
    "hash": "24ea05d60ccfa0ceea8ad1c3f4c58b3676276e6d2f47edf8677d2fc67d75419d"
   }
  }
 },
 "nbformat": 4,
 "nbformat_minor": 2
}

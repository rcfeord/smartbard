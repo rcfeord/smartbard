{
 "cells": [
  {
   "cell_type": "code",
   "execution_count": 10,
   "metadata": {},
   "outputs": [],
   "source": [
    "import pandas as pd\n",
    "import numpy as np"
   ]
  },
  {
   "cell_type": "code",
   "execution_count": 3,
   "metadata": {},
   "outputs": [],
   "source": [
    "df = pd.read_json('../raw_data/limerick_dataset_oedilf_v3.json')"
   ]
  },
  {
   "cell_type": "code",
   "execution_count": 4,
   "metadata": {},
   "outputs": [
    {
     "data": {
      "text/html": [
       "<div>\n",
       "<style scoped>\n",
       "    .dataframe tbody tr th:only-of-type {\n",
       "        vertical-align: middle;\n",
       "    }\n",
       "\n",
       "    .dataframe tbody tr th {\n",
       "        vertical-align: top;\n",
       "    }\n",
       "\n",
       "    .dataframe thead th {\n",
       "        text-align: right;\n",
       "    }\n",
       "</style>\n",
       "<table border=\"1\" class=\"dataframe\">\n",
       "  <thead>\n",
       "    <tr style=\"text-align: right;\">\n",
       "      <th></th>\n",
       "      <th>author</th>\n",
       "      <th>limerick</th>\n",
       "      <th>id</th>\n",
       "      <th>is_limerick</th>\n",
       "    </tr>\n",
       "  </thead>\n",
       "  <tbody>\n",
       "    <tr>\n",
       "      <th>0</th>\n",
       "      <td>Chris J. Strolin</td>\n",
       "      <td>The very first word here is a.\\nIt's used with...</td>\n",
       "      <td>1</td>\n",
       "      <td>False</td>\n",
       "    </tr>\n",
       "    <tr>\n",
       "      <th>1</th>\n",
       "      <td>BobHale</td>\n",
       "      <td>\"I'm really hon'rably intentioned,\"\\nHe said t...</td>\n",
       "      <td>2</td>\n",
       "      <td>False</td>\n",
       "    </tr>\n",
       "    <tr>\n",
       "      <th>2</th>\n",
       "      <td>Richard English</td>\n",
       "      <td>If a bovine in some leafy glade\\nShould swallo...</td>\n",
       "      <td>3</td>\n",
       "      <td>True</td>\n",
       "    </tr>\n",
       "    <tr>\n",
       "      <th>3</th>\n",
       "      <td>Tim Alborn</td>\n",
       "      <td>The ham-handed chef at IHOP\\nLost his grip, an...</td>\n",
       "      <td>4</td>\n",
       "      <td>False</td>\n",
       "    </tr>\n",
       "    <tr>\n",
       "      <th>4</th>\n",
       "      <td>Virge</td>\n",
       "      <td>Our abode, dear (that place with the smell),\\n...</td>\n",
       "      <td>5</td>\n",
       "      <td>True</td>\n",
       "    </tr>\n",
       "  </tbody>\n",
       "</table>\n",
       "</div>"
      ],
      "text/plain": [
       "             author                                           limerick  id  \\\n",
       "0  Chris J. Strolin  The very first word here is a.\\nIt's used with...   1   \n",
       "1           BobHale  \"I'm really hon'rably intentioned,\"\\nHe said t...   2   \n",
       "2   Richard English  If a bovine in some leafy glade\\nShould swallo...   3   \n",
       "3        Tim Alborn  The ham-handed chef at IHOP\\nLost his grip, an...   4   \n",
       "4             Virge  Our abode, dear (that place with the smell),\\n...   5   \n",
       "\n",
       "   is_limerick  \n",
       "0        False  \n",
       "1        False  \n",
       "2         True  \n",
       "3        False  \n",
       "4         True  "
      ]
     },
     "execution_count": 4,
     "metadata": {},
     "output_type": "execute_result"
    }
   ],
   "source": [
    "df.head()"
   ]
  },
  {
   "cell_type": "code",
   "execution_count": 7,
   "metadata": {},
   "outputs": [],
   "source": [
    "true_limerick_df = df[df.is_limerick == True]"
   ]
  },
  {
   "cell_type": "code",
   "execution_count": 8,
   "metadata": {},
   "outputs": [
    {
     "name": "stdout",
     "output_type": "stream",
     "text": [
      "(98454, 4)\n",
      "(65886, 4)\n"
     ]
    }
   ],
   "source": [
    "print(df.shape)\n",
    "print(true_limerick_df.shape)"
   ]
  },
  {
   "cell_type": "code",
   "execution_count": 18,
   "metadata": {},
   "outputs": [
    {
     "data": {
      "text/plain": [
       "329430"
      ]
     },
     "execution_count": 18,
     "metadata": {},
     "output_type": "execute_result"
    }
   ],
   "source": [
    "lines = []\n",
    "\n",
    "for i in range(len(true_limerick_df)):\n",
    "    verses = true_limerick_df['limerick'].iloc[0].split('\\n')\n",
    "\n",
    "    for verse in verses:\n",
    "        lines.append(verse)\n",
    "        \n",
    "len(lines)\n"
   ]
  },
  {
   "cell_type": "code",
   "execution_count": 3,
   "metadata": {},
   "outputs": [
    {
     "data": {
      "text/plain": [
       "329430"
      ]
     },
     "execution_count": 3,
     "metadata": {},
     "output_type": "execute_result"
    }
   ],
   "source": [
    "from data_processing.format_data import extract_lines\n",
    "\n",
    "file_path = '../raw_data/limerick_dataset_oedilf_v3.json'\n",
    "lines2 = extract_lines(file_path)\n",
    "len(lines2)"
   ]
  },
  {
   "cell_type": "code",
   "execution_count": 4,
   "metadata": {},
   "outputs": [],
   "source": [
    "import cmudict"
   ]
  },
  {
   "cell_type": "code",
   "execution_count": 8,
   "metadata": {},
   "outputs": [
    {
     "data": {
      "text/plain": [
       "(\"'bout\", ['B', 'AW1', 'T'])"
      ]
     },
     "execution_count": 8,
     "metadata": {},
     "output_type": "execute_result"
    }
   ],
   "source": [
    "words = cmudict.entries()\n",
    "words[0]"
   ]
  },
  {
   "cell_type": "code",
   "execution_count": 11,
   "metadata": {},
   "outputs": [],
   "source": [
    "df = pd.read_json('../raw_data/limerick_dataset_oedilf_v3.json')\n",
    "df = df[df.is_limerick == True]"
   ]
  },
  {
   "cell_type": "code",
   "execution_count": 19,
   "metadata": {},
   "outputs": [
    {
     "name": "stderr",
     "output_type": "stream",
     "text": [
      "/var/folders/66/gdxkg34n24sgj483j1fmq0l40000gn/T/ipykernel_9461/785774828.py:14: SettingWithCopyWarning: \n",
      "A value is trying to be set on a copy of a slice from a DataFrame\n",
      "\n",
      "See the caveats in the documentation: https://pandas.pydata.org/pandas-docs/stable/user_guide/indexing.html#returning-a-view-versus-a-copy\n",
      "  df['limerick_tk_added'].iloc[i] = list_temp\n"
     ]
    },
    {
     "data": {
      "text/html": [
       "<div>\n",
       "<style scoped>\n",
       "    .dataframe tbody tr th:only-of-type {\n",
       "        vertical-align: middle;\n",
       "    }\n",
       "\n",
       "    .dataframe tbody tr th {\n",
       "        vertical-align: top;\n",
       "    }\n",
       "\n",
       "    .dataframe thead th {\n",
       "        text-align: right;\n",
       "    }\n",
       "</style>\n",
       "<table border=\"1\" class=\"dataframe\">\n",
       "  <thead>\n",
       "    <tr style=\"text-align: right;\">\n",
       "      <th></th>\n",
       "      <th>author</th>\n",
       "      <th>limerick</th>\n",
       "      <th>id</th>\n",
       "      <th>is_limerick</th>\n",
       "      <th>limerick_tk_added</th>\n",
       "    </tr>\n",
       "  </thead>\n",
       "  <tbody>\n",
       "    <tr>\n",
       "      <th>2</th>\n",
       "      <td>Richard English</td>\n",
       "      <td>If a bovine in some leafy glade\\nShould swallo...</td>\n",
       "      <td>3</td>\n",
       "      <td>True</td>\n",
       "      <td>&lt;LS&gt; If a bovine in some leafy glade &lt;LE&gt; Shou...</td>\n",
       "    </tr>\n",
       "    <tr>\n",
       "      <th>4</th>\n",
       "      <td>Virge</td>\n",
       "      <td>Our abode, dear (that place with the smell),\\n...</td>\n",
       "      <td>5</td>\n",
       "      <td>True</td>\n",
       "      <td>&lt;LS&gt; Our abode, dear (that place with the smel...</td>\n",
       "    </tr>\n",
       "    <tr>\n",
       "      <th>6</th>\n",
       "      <td>Virge</td>\n",
       "      <td>Quoth the office wall icon, \"Achieve!\\nYou can...</td>\n",
       "      <td>9</td>\n",
       "      <td>True</td>\n",
       "      <td>&lt;LS&gt; Quoth the office wall icon, \"Achieve! &lt;LE...</td>\n",
       "    </tr>\n",
       "    <tr>\n",
       "      <th>8</th>\n",
       "      <td>Meg Beagle</td>\n",
       "      <td>Our tomatoes this year are abounding;\\nThey're...</td>\n",
       "      <td>11</td>\n",
       "      <td>True</td>\n",
       "      <td>&lt;LS&gt; Our tomatoes this year are abounding; &lt;LE...</td>\n",
       "    </tr>\n",
       "    <tr>\n",
       "      <th>10</th>\n",
       "      <td>Meg Beagle</td>\n",
       "      <td>I'm not one of you limerick chums,\\nAnd the th...</td>\n",
       "      <td>13</td>\n",
       "      <td>True</td>\n",
       "      <td>&lt;LS&gt; I'm not one of you limerick chums, &lt;LE&gt; A...</td>\n",
       "    </tr>\n",
       "  </tbody>\n",
       "</table>\n",
       "</div>"
      ],
      "text/plain": [
       "             author                                           limerick  id  \\\n",
       "2   Richard English  If a bovine in some leafy glade\\nShould swallo...   3   \n",
       "4             Virge  Our abode, dear (that place with the smell),\\n...   5   \n",
       "6             Virge  Quoth the office wall icon, \"Achieve!\\nYou can...   9   \n",
       "8        Meg Beagle  Our tomatoes this year are abounding;\\nThey're...  11   \n",
       "10       Meg Beagle  I'm not one of you limerick chums,\\nAnd the th...  13   \n",
       "\n",
       "    is_limerick                                  limerick_tk_added  \n",
       "2          True  <LS> If a bovine in some leafy glade <LE> Shou...  \n",
       "4          True  <LS> Our abode, dear (that place with the smel...  \n",
       "6          True  <LS> Quoth the office wall icon, \"Achieve! <LE...  \n",
       "8          True  <LS> Our tomatoes this year are abounding; <LE...  \n",
       "10         True  <LS> I'm not one of you limerick chums, <LE> A...  "
      ]
     },
     "execution_count": 19,
     "metadata": {},
     "output_type": "execute_result"
    }
   ],
   "source": [
    "df['limerick_tk_added'] = ''\n",
    "\n",
    "for i in range(len(df)):\n",
    "    \n",
    "    list_temp = ['<LS>']\n",
    "    \n",
    "    verses = df['limerick'].iloc[i].split('\\n')\n",
    "\n",
    "    for verse in verses:\n",
    "        list_temp.append(verse + ' <LE>')\n",
    "    \n",
    "    list_temp = ' '.join(list_temp)\n",
    "        \n",
    "    df['limerick_tk_added'].iloc[i] = list_temp\n",
    "\n",
    "df.head()"
   ]
  },
  {
   "cell_type": "code",
   "execution_count": 22,
   "metadata": {},
   "outputs": [
    {
     "name": "stderr",
     "output_type": "stream",
     "text": [
      "/var/folders/66/gdxkg34n24sgj483j1fmq0l40000gn/T/ipykernel_9461/1025695797.py:10: SettingWithCopyWarning: \n",
      "A value is trying to be set on a copy of a slice from a DataFrame\n",
      "\n",
      "See the caveats in the documentation: https://pandas.pydata.org/pandas-docs/stable/user_guide/indexing.html#returning-a-view-versus-a-copy\n",
      "  df['limerick_tk_reversed'].iloc[i] = reverse_sentence\n"
     ]
    },
    {
     "data": {
      "text/html": [
       "<div>\n",
       "<style scoped>\n",
       "    .dataframe tbody tr th:only-of-type {\n",
       "        vertical-align: middle;\n",
       "    }\n",
       "\n",
       "    .dataframe tbody tr th {\n",
       "        vertical-align: top;\n",
       "    }\n",
       "\n",
       "    .dataframe thead th {\n",
       "        text-align: right;\n",
       "    }\n",
       "</style>\n",
       "<table border=\"1\" class=\"dataframe\">\n",
       "  <thead>\n",
       "    <tr style=\"text-align: right;\">\n",
       "      <th></th>\n",
       "      <th>author</th>\n",
       "      <th>limerick</th>\n",
       "      <th>id</th>\n",
       "      <th>is_limerick</th>\n",
       "      <th>limerick_tk_added</th>\n",
       "      <th>limerick_tk_reversed</th>\n",
       "    </tr>\n",
       "  </thead>\n",
       "  <tbody>\n",
       "    <tr>\n",
       "      <th>2</th>\n",
       "      <td>Richard English</td>\n",
       "      <td>If a bovine in some leafy glade\\nShould swallo...</td>\n",
       "      <td>3</td>\n",
       "      <td>True</td>\n",
       "      <td>&lt;LS&gt; If a bovine in some leafy glade &lt;LE&gt; Shou...</td>\n",
       "      <td>&lt;LE&gt; made. he's what that's — abominable It's ...</td>\n",
       "    </tr>\n",
       "    <tr>\n",
       "      <th>4</th>\n",
       "      <td>Virge</td>\n",
       "      <td>Our abode, dear (that place with the smell),\\n...</td>\n",
       "      <td>5</td>\n",
       "      <td>True</td>\n",
       "      <td>&lt;LS&gt; Our abode, dear (that place with the smel...</td>\n",
       "      <td>&lt;LE&gt; hell). of foretaste (a Together &lt;LE&gt; othe...</td>\n",
       "    </tr>\n",
       "    <tr>\n",
       "      <th>6</th>\n",
       "      <td>Virge</td>\n",
       "      <td>Quoth the office wall icon, \"Achieve!\\nYou can...</td>\n",
       "      <td>9</td>\n",
       "      <td>True</td>\n",
       "      <td>&lt;LS&gt; Quoth the office wall icon, \"Achieve! &lt;LE...</td>\n",
       "      <td>&lt;LE&gt; \"self-deceive.\" path, new a walk I Now &lt;L...</td>\n",
       "    </tr>\n",
       "    <tr>\n",
       "      <th>8</th>\n",
       "      <td>Meg Beagle</td>\n",
       "      <td>Our tomatoes this year are abounding;\\nThey're...</td>\n",
       "      <td>11</td>\n",
       "      <td>True</td>\n",
       "      <td>&lt;LS&gt; Our tomatoes this year are abounding; &lt;LE...</td>\n",
       "      <td>&lt;LE&gt; dumbfounding. but all that's produce For ...</td>\n",
       "    </tr>\n",
       "    <tr>\n",
       "      <th>10</th>\n",
       "      <td>Meg Beagle</td>\n",
       "      <td>I'm not one of you limerick chums,\\nAnd the th...</td>\n",
       "      <td>13</td>\n",
       "      <td>True</td>\n",
       "      <td>&lt;LS&gt; I'm not one of you limerick chums, &lt;LE&gt; A...</td>\n",
       "      <td>&lt;LE&gt; thumbs. opposable lacks she Since &lt;LE&gt; be...</td>\n",
       "    </tr>\n",
       "  </tbody>\n",
       "</table>\n",
       "</div>"
      ],
      "text/plain": [
       "             author                                           limerick  id  \\\n",
       "2   Richard English  If a bovine in some leafy glade\\nShould swallo...   3   \n",
       "4             Virge  Our abode, dear (that place with the smell),\\n...   5   \n",
       "6             Virge  Quoth the office wall icon, \"Achieve!\\nYou can...   9   \n",
       "8        Meg Beagle  Our tomatoes this year are abounding;\\nThey're...  11   \n",
       "10       Meg Beagle  I'm not one of you limerick chums,\\nAnd the th...  13   \n",
       "\n",
       "    is_limerick                                  limerick_tk_added  \\\n",
       "2          True  <LS> If a bovine in some leafy glade <LE> Shou...   \n",
       "4          True  <LS> Our abode, dear (that place with the smel...   \n",
       "6          True  <LS> Quoth the office wall icon, \"Achieve! <LE...   \n",
       "8          True  <LS> Our tomatoes this year are abounding; <LE...   \n",
       "10         True  <LS> I'm not one of you limerick chums, <LE> A...   \n",
       "\n",
       "                                 limerick_tk_reversed  \n",
       "2   <LE> made. he's what that's — abominable It's ...  \n",
       "4   <LE> hell). of foretaste (a Together <LE> othe...  \n",
       "6   <LE> \"self-deceive.\" path, new a walk I Now <L...  \n",
       "8   <LE> dumbfounding. but all that's produce For ...  \n",
       "10  <LE> thumbs. opposable lacks she Since <LE> be...  "
      ]
     },
     "execution_count": 22,
     "metadata": {},
     "output_type": "execute_result"
    }
   ],
   "source": [
    "df['limerick_tk_reversed'] = ''\n",
    "\n",
    "for i in range(len(df)):\n",
    "    \n",
    "    list_temp = df['limerick_tk_added'].iloc[i]\n",
    "    words = list_temp.split(' ')\n",
    "    # then reverse the split string list and join using space\n",
    "    reverse_sentence = ' '.join(reversed(words))\n",
    "    # add to new column in df\n",
    "    df['limerick_tk_reversed'].iloc[i] = reverse_sentence\n",
    "    \n",
    "df.head()"
   ]
  },
  {
   "cell_type": "code",
   "execution_count": 1,
   "metadata": {},
   "outputs": [
    {
     "data": {
      "text/html": [
       "<div>\n",
       "<style scoped>\n",
       "    .dataframe tbody tr th:only-of-type {\n",
       "        vertical-align: middle;\n",
       "    }\n",
       "\n",
       "    .dataframe tbody tr th {\n",
       "        vertical-align: top;\n",
       "    }\n",
       "\n",
       "    .dataframe thead th {\n",
       "        text-align: right;\n",
       "    }\n",
       "</style>\n",
       "<table border=\"1\" class=\"dataframe\">\n",
       "  <thead>\n",
       "    <tr style=\"text-align: right;\">\n",
       "      <th></th>\n",
       "      <th>author</th>\n",
       "      <th>limerick</th>\n",
       "      <th>id</th>\n",
       "      <th>is_limerick</th>\n",
       "    </tr>\n",
       "  </thead>\n",
       "  <tbody>\n",
       "    <tr>\n",
       "      <th>2</th>\n",
       "      <td>Richard English</td>\n",
       "      <td>If a bovine in some leafy glade\\nShould swallo...</td>\n",
       "      <td>3</td>\n",
       "      <td>True</td>\n",
       "    </tr>\n",
       "    <tr>\n",
       "      <th>4</th>\n",
       "      <td>Virge</td>\n",
       "      <td>Our abode, dear (that place with the smell),\\n...</td>\n",
       "      <td>5</td>\n",
       "      <td>True</td>\n",
       "    </tr>\n",
       "    <tr>\n",
       "      <th>6</th>\n",
       "      <td>Virge</td>\n",
       "      <td>Quoth the office wall icon, \"Achieve!\\nYou can...</td>\n",
       "      <td>9</td>\n",
       "      <td>True</td>\n",
       "    </tr>\n",
       "    <tr>\n",
       "      <th>8</th>\n",
       "      <td>Meg Beagle</td>\n",
       "      <td>Our tomatoes this year are abounding;\\nThey're...</td>\n",
       "      <td>11</td>\n",
       "      <td>True</td>\n",
       "    </tr>\n",
       "    <tr>\n",
       "      <th>10</th>\n",
       "      <td>Meg Beagle</td>\n",
       "      <td>I'm not one of you limerick chums,\\nAnd the th...</td>\n",
       "      <td>13</td>\n",
       "      <td>True</td>\n",
       "    </tr>\n",
       "  </tbody>\n",
       "</table>\n",
       "</div>"
      ],
      "text/plain": [
       "             author                                           limerick  id  \\\n",
       "2   Richard English  If a bovine in some leafy glade\\nShould swallo...   3   \n",
       "4             Virge  Our abode, dear (that place with the smell),\\n...   5   \n",
       "6             Virge  Quoth the office wall icon, \"Achieve!\\nYou can...   9   \n",
       "8        Meg Beagle  Our tomatoes this year are abounding;\\nThey're...  11   \n",
       "10       Meg Beagle  I'm not one of you limerick chums,\\nAnd the th...  13   \n",
       "\n",
       "    is_limerick  \n",
       "2          True  \n",
       "4          True  \n",
       "6          True  \n",
       "8          True  \n",
       "10         True  "
      ]
     },
     "execution_count": 1,
     "metadata": {},
     "output_type": "execute_result"
    }
   ],
   "source": [
    "from data_processing.format_data import data_import_df\n",
    "\n",
    "file_path = '../raw_data/limerick_dataset_oedilf_v3.json'\n",
    "df = data_import_df(file_path)\n",
    "df.head()"
   ]
  },
  {
   "cell_type": "code",
   "execution_count": 2,
   "metadata": {},
   "outputs": [
    {
     "name": "stderr",
     "output_type": "stream",
     "text": [
      "/Users/rachael/code/rcfeord/smartbard/data_processing/gpt2_formats.py:20: SettingWithCopyWarning: \n",
      "A value is trying to be set on a copy of a slice from a DataFrame\n",
      "\n",
      "See the caveats in the documentation: https://pandas.pydata.org/pandas-docs/stable/user_guide/indexing.html#returning-a-view-versus-a-copy\n",
      "  df['limerick_tk_added'].iloc[i] = list_temp\n"
     ]
    },
    {
     "data": {
      "text/html": [
       "<div>\n",
       "<style scoped>\n",
       "    .dataframe tbody tr th:only-of-type {\n",
       "        vertical-align: middle;\n",
       "    }\n",
       "\n",
       "    .dataframe tbody tr th {\n",
       "        vertical-align: top;\n",
       "    }\n",
       "\n",
       "    .dataframe thead th {\n",
       "        text-align: right;\n",
       "    }\n",
       "</style>\n",
       "<table border=\"1\" class=\"dataframe\">\n",
       "  <thead>\n",
       "    <tr style=\"text-align: right;\">\n",
       "      <th></th>\n",
       "      <th>author</th>\n",
       "      <th>limerick</th>\n",
       "      <th>id</th>\n",
       "      <th>is_limerick</th>\n",
       "      <th>limerick_tk_added</th>\n",
       "    </tr>\n",
       "  </thead>\n",
       "  <tbody>\n",
       "    <tr>\n",
       "      <th>2</th>\n",
       "      <td>Richard English</td>\n",
       "      <td>If a bovine in some leafy glade\\nShould swallo...</td>\n",
       "      <td>3</td>\n",
       "      <td>True</td>\n",
       "      <td>&lt;LS&gt; If a bovine in some leafy glade &lt;LE&gt; Shou...</td>\n",
       "    </tr>\n",
       "    <tr>\n",
       "      <th>4</th>\n",
       "      <td>Virge</td>\n",
       "      <td>Our abode, dear (that place with the smell),\\n...</td>\n",
       "      <td>5</td>\n",
       "      <td>True</td>\n",
       "      <td>&lt;LS&gt; Our abode, dear (that place with the smel...</td>\n",
       "    </tr>\n",
       "    <tr>\n",
       "      <th>6</th>\n",
       "      <td>Virge</td>\n",
       "      <td>Quoth the office wall icon, \"Achieve!\\nYou can...</td>\n",
       "      <td>9</td>\n",
       "      <td>True</td>\n",
       "      <td>&lt;LS&gt; Quoth the office wall icon, \"Achieve! &lt;LE...</td>\n",
       "    </tr>\n",
       "    <tr>\n",
       "      <th>8</th>\n",
       "      <td>Meg Beagle</td>\n",
       "      <td>Our tomatoes this year are abounding;\\nThey're...</td>\n",
       "      <td>11</td>\n",
       "      <td>True</td>\n",
       "      <td>&lt;LS&gt; Our tomatoes this year are abounding; &lt;LE...</td>\n",
       "    </tr>\n",
       "    <tr>\n",
       "      <th>10</th>\n",
       "      <td>Meg Beagle</td>\n",
       "      <td>I'm not one of you limerick chums,\\nAnd the th...</td>\n",
       "      <td>13</td>\n",
       "      <td>True</td>\n",
       "      <td>&lt;LS&gt; I'm not one of you limerick chums, &lt;LE&gt; A...</td>\n",
       "    </tr>\n",
       "  </tbody>\n",
       "</table>\n",
       "</div>"
      ],
      "text/plain": [
       "             author                                           limerick  id  \\\n",
       "2   Richard English  If a bovine in some leafy glade\\nShould swallo...   3   \n",
       "4             Virge  Our abode, dear (that place with the smell),\\n...   5   \n",
       "6             Virge  Quoth the office wall icon, \"Achieve!\\nYou can...   9   \n",
       "8        Meg Beagle  Our tomatoes this year are abounding;\\nThey're...  11   \n",
       "10       Meg Beagle  I'm not one of you limerick chums,\\nAnd the th...  13   \n",
       "\n",
       "    is_limerick                                  limerick_tk_added  \n",
       "2          True  <LS> If a bovine in some leafy glade <LE> Shou...  \n",
       "4          True  <LS> Our abode, dear (that place with the smel...  \n",
       "6          True  <LS> Quoth the office wall icon, \"Achieve! <LE...  \n",
       "8          True  <LS> Our tomatoes this year are abounding; <LE...  \n",
       "10         True  <LS> I'm not one of you limerick chums, <LE> A...  "
      ]
     },
     "execution_count": 2,
     "metadata": {},
     "output_type": "execute_result"
    }
   ],
   "source": [
    "from data_processing.gpt2_formats import limerick_add_special_tkns\n",
    "\n",
    "df = limerick_add_special_tkns(df)\n",
    "df.head()"
   ]
  },
  {
   "cell_type": "code",
   "execution_count": 3,
   "metadata": {},
   "outputs": [
    {
     "name": "stderr",
     "output_type": "stream",
     "text": [
      "/Users/rachael/code/rcfeord/smartbard/data_processing/gpt2_formats.py:37: SettingWithCopyWarning: \n",
      "A value is trying to be set on a copy of a slice from a DataFrame\n",
      "\n",
      "See the caveats in the documentation: https://pandas.pydata.org/pandas-docs/stable/user_guide/indexing.html#returning-a-view-versus-a-copy\n",
      "  df['limerick_tk_reversed'].iloc[i] = reverse_sentence\n"
     ]
    },
    {
     "data": {
      "text/html": [
       "<div>\n",
       "<style scoped>\n",
       "    .dataframe tbody tr th:only-of-type {\n",
       "        vertical-align: middle;\n",
       "    }\n",
       "\n",
       "    .dataframe tbody tr th {\n",
       "        vertical-align: top;\n",
       "    }\n",
       "\n",
       "    .dataframe thead th {\n",
       "        text-align: right;\n",
       "    }\n",
       "</style>\n",
       "<table border=\"1\" class=\"dataframe\">\n",
       "  <thead>\n",
       "    <tr style=\"text-align: right;\">\n",
       "      <th></th>\n",
       "      <th>author</th>\n",
       "      <th>limerick</th>\n",
       "      <th>id</th>\n",
       "      <th>is_limerick</th>\n",
       "      <th>limerick_tk_added</th>\n",
       "      <th>limerick_tk_reversed</th>\n",
       "    </tr>\n",
       "  </thead>\n",
       "  <tbody>\n",
       "    <tr>\n",
       "      <th>2</th>\n",
       "      <td>Richard English</td>\n",
       "      <td>If a bovine in some leafy glade\\nShould swallo...</td>\n",
       "      <td>3</td>\n",
       "      <td>True</td>\n",
       "      <td>&lt;LS&gt; If a bovine in some leafy glade &lt;LE&gt; Shou...</td>\n",
       "      <td>&lt;LE&gt; made. he's what that's — abominable It's ...</td>\n",
       "    </tr>\n",
       "    <tr>\n",
       "      <th>4</th>\n",
       "      <td>Virge</td>\n",
       "      <td>Our abode, dear (that place with the smell),\\n...</td>\n",
       "      <td>5</td>\n",
       "      <td>True</td>\n",
       "      <td>&lt;LS&gt; Our abode, dear (that place with the smel...</td>\n",
       "      <td>&lt;LE&gt; hell). of foretaste (a Together &lt;LE&gt; othe...</td>\n",
       "    </tr>\n",
       "    <tr>\n",
       "      <th>6</th>\n",
       "      <td>Virge</td>\n",
       "      <td>Quoth the office wall icon, \"Achieve!\\nYou can...</td>\n",
       "      <td>9</td>\n",
       "      <td>True</td>\n",
       "      <td>&lt;LS&gt; Quoth the office wall icon, \"Achieve! &lt;LE...</td>\n",
       "      <td>&lt;LE&gt; \"self-deceive.\" path, new a walk I Now &lt;L...</td>\n",
       "    </tr>\n",
       "    <tr>\n",
       "      <th>8</th>\n",
       "      <td>Meg Beagle</td>\n",
       "      <td>Our tomatoes this year are abounding;\\nThey're...</td>\n",
       "      <td>11</td>\n",
       "      <td>True</td>\n",
       "      <td>&lt;LS&gt; Our tomatoes this year are abounding; &lt;LE...</td>\n",
       "      <td>&lt;LE&gt; dumbfounding. but all that's produce For ...</td>\n",
       "    </tr>\n",
       "    <tr>\n",
       "      <th>10</th>\n",
       "      <td>Meg Beagle</td>\n",
       "      <td>I'm not one of you limerick chums,\\nAnd the th...</td>\n",
       "      <td>13</td>\n",
       "      <td>True</td>\n",
       "      <td>&lt;LS&gt; I'm not one of you limerick chums, &lt;LE&gt; A...</td>\n",
       "      <td>&lt;LE&gt; thumbs. opposable lacks she Since &lt;LE&gt; be...</td>\n",
       "    </tr>\n",
       "  </tbody>\n",
       "</table>\n",
       "</div>"
      ],
      "text/plain": [
       "             author                                           limerick  id  \\\n",
       "2   Richard English  If a bovine in some leafy glade\\nShould swallo...   3   \n",
       "4             Virge  Our abode, dear (that place with the smell),\\n...   5   \n",
       "6             Virge  Quoth the office wall icon, \"Achieve!\\nYou can...   9   \n",
       "8        Meg Beagle  Our tomatoes this year are abounding;\\nThey're...  11   \n",
       "10       Meg Beagle  I'm not one of you limerick chums,\\nAnd the th...  13   \n",
       "\n",
       "    is_limerick                                  limerick_tk_added  \\\n",
       "2          True  <LS> If a bovine in some leafy glade <LE> Shou...   \n",
       "4          True  <LS> Our abode, dear (that place with the smel...   \n",
       "6          True  <LS> Quoth the office wall icon, \"Achieve! <LE...   \n",
       "8          True  <LS> Our tomatoes this year are abounding; <LE...   \n",
       "10         True  <LS> I'm not one of you limerick chums, <LE> A...   \n",
       "\n",
       "                                 limerick_tk_reversed  \n",
       "2   <LE> made. he's what that's — abominable It's ...  \n",
       "4   <LE> hell). of foretaste (a Together <LE> othe...  \n",
       "6   <LE> \"self-deceive.\" path, new a walk I Now <L...  \n",
       "8   <LE> dumbfounding. but all that's produce For ...  \n",
       "10  <LE> thumbs. opposable lacks she Since <LE> be...  "
      ]
     },
     "execution_count": 3,
     "metadata": {},
     "output_type": "execute_result"
    }
   ],
   "source": [
    "from data_processing.gpt2_formats import limerick_reverse\n",
    "\n",
    "df = limerick_reverse(df)\n",
    "df.head()"
   ]
  },
  {
   "cell_type": "code",
   "execution_count": null,
   "metadata": {},
   "outputs": [],
   "source": []
  }
 ],
 "metadata": {
  "kernelspec": {
   "display_name": "Python 3.10.6 64-bit ('smartbard')",
   "language": "python",
   "name": "python3"
  },
  "language_info": {
   "codemirror_mode": {
    "name": "ipython",
    "version": 3
   },
   "file_extension": ".py",
   "mimetype": "text/x-python",
   "name": "python",
   "nbconvert_exporter": "python",
   "pygments_lexer": "ipython3",
   "version": "3.10.6"
  },
  "orig_nbformat": 4,
  "vscode": {
   "interpreter": {
    "hash": "24ea05d60ccfa0ceea8ad1c3f4c58b3676276e6d2f47edf8677d2fc67d75419d"
   }
  }
 },
 "nbformat": 4,
 "nbformat_minor": 2
}

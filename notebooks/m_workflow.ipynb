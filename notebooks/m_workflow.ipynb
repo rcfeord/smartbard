{
 "cells": [
  {
   "cell_type": "markdown",
   "metadata": {},
   "source": [
    "# Finalize\n"
   ]
  },
  {
   "cell_type": "code",
   "execution_count": 1,
   "metadata": {},
   "outputs": [
    {
     "data": {
      "text/html": [
       "<div>\n",
       "<style scoped>\n",
       "    .dataframe tbody tr th:only-of-type {\n",
       "        vertical-align: middle;\n",
       "    }\n",
       "\n",
       "    .dataframe tbody tr th {\n",
       "        vertical-align: top;\n",
       "    }\n",
       "\n",
       "    .dataframe thead th {\n",
       "        text-align: right;\n",
       "    }\n",
       "</style>\n",
       "<table border=\"1\" class=\"dataframe\">\n",
       "  <thead>\n",
       "    <tr style=\"text-align: right;\">\n",
       "      <th></th>\n",
       "      <th>Id</th>\n",
       "      <th>Label</th>\n",
       "      <th>Probability</th>\n",
       "    </tr>\n",
       "  </thead>\n",
       "  <tbody>\n",
       "    <tr>\n",
       "      <th>0</th>\n",
       "      <td>n03109150</td>\n",
       "      <td>corkscrew</td>\n",
       "      <td>0.149547</td>\n",
       "    </tr>\n",
       "    <tr>\n",
       "      <th>1</th>\n",
       "      <td>n07248320</td>\n",
       "      <td>book_jacket</td>\n",
       "      <td>0.107495</td>\n",
       "    </tr>\n",
       "    <tr>\n",
       "      <th>2</th>\n",
       "      <td>n07892512</td>\n",
       "      <td>red_wine</td>\n",
       "      <td>0.042941</td>\n",
       "    </tr>\n",
       "    <tr>\n",
       "      <th>3</th>\n",
       "      <td>n07768694</td>\n",
       "      <td>pomegranate</td>\n",
       "      <td>0.026097</td>\n",
       "    </tr>\n",
       "    <tr>\n",
       "      <th>4</th>\n",
       "      <td>n12620546</td>\n",
       "      <td>hip</td>\n",
       "      <td>0.023215</td>\n",
       "    </tr>\n",
       "  </tbody>\n",
       "</table>\n",
       "</div>"
      ],
      "text/plain": [
       "          Id        Label  Probability\n",
       "0  n03109150    corkscrew     0.149547\n",
       "1  n07248320  book_jacket     0.107495\n",
       "2  n07892512     red_wine     0.042941\n",
       "3  n07768694  pomegranate     0.026097\n",
       "4  n12620546          hip     0.023215"
      ]
     },
     "execution_count": 1,
     "metadata": {},
     "output_type": "execute_result"
    }
   ],
   "source": [
    "### EXTRACT KEYWORDS FROM IMAGE ###\n",
    "\n",
    "from smartbard.image_model.image_keywords import image_to_keywords, select_keyword\n",
    "\n",
    "#~~~~~~~~~ temp path ~~~~~~~~~~~~\n",
    "path = '/Users/Marco/code/rcfeord/smartbard/wip/5490264.jpg'\n",
    "#~~~~~~~~~~~~~~~~~~~~~~~~~~~~~~~~\n",
    "image_keywords_df = image_to_keywords(path, 5)\n",
    "image_keywords_df\n"
   ]
  },
  {
   "cell_type": "code",
   "execution_count": 2,
   "metadata": {},
   "outputs": [
    {
     "data": {
      "text/plain": [
       "['corkscrew']"
      ]
     },
     "execution_count": 2,
     "metadata": {},
     "output_type": "execute_result"
    }
   ],
   "source": [
    "### SELECT BEST KEYWORDS ###\n",
    "\n",
    "keywords_list = select_keyword(image_keywords_df, 1)\n",
    "keywords_list\n"
   ]
  },
  {
   "cell_type": "code",
   "execution_count": 3,
   "metadata": {},
   "outputs": [
    {
     "data": {
      "text/plain": [
       "'<LS> <KS> corkscrew <KE>'"
      ]
     },
     "execution_count": 3,
     "metadata": {},
     "output_type": "execute_result"
    }
   ],
   "source": [
    "### DEFINE STARTING SEQUENCE FOR GPT2\n",
    "\n",
    "start_sequence = f\"<LS> <KS> {' '.join(keywords_list)} <KE>\"\n",
    "start_sequence\n"
   ]
  },
  {
   "cell_type": "code",
   "execution_count": 4,
   "metadata": {},
   "outputs": [
    {
     "name": "stderr",
     "output_type": "stream",
     "text": [
      "[nltk_data] Downloading package punkt to /Users/Marco/nltk_data...\n",
      "[nltk_data]   Package punkt is already up-to-date!\n",
      "[nltk_data] Downloading package averaged_perceptron_tagger to\n",
      "[nltk_data]     /Users/Marco/nltk_data...\n",
      "[nltk_data]   Package averaged_perceptron_tagger is already up-to-\n",
      "[nltk_data]       date!\n"
     ]
    },
    {
     "data": {
      "text/plain": [
       "\"<LS> <KS> bovine <KE> If a bovine in some leafy glade <L0> Should swallow a live hand-grenade <L1> Then surely it's vile <L2> (Though the word makes me smile); <L3> It's abominable — that's what he's made. <L4> <LE> \""
      ]
     },
     "execution_count": 4,
     "metadata": {},
     "output_type": "execute_result"
    }
   ],
   "source": [
    "### GENERATE TEXT WITH GPT2\n",
    "\n",
    "# generated_limerick = generated_text(sequence)\n",
    "\n",
    "#~~~~~~~ fake generation ~~~~~~~~\n",
    "import pandas as pd\n",
    "data_folder = '../raw_data/'\n",
    "data_file = 'limerick_dataset_oedilf_v3.json'\n",
    "file = os.path.join(data_folder, data_file)\n",
    "df_raw = pd.read_json(file)\n",
    "df = df_raw[df_raw['is_limerick'] == True]\n",
    "\n",
    "from smartbard.data_processing.extract_keywords import df_add_noun_keyword\n",
    "\n",
    "df_kwrd = df_add_noun_keyword(df.iloc[:10])\n",
    "\n",
    "from smartbard.data_processing.gpt2_formats import limerick_add_special_tkns\n",
    "\n",
    "df_tkns = limerick_add_special_tkns(df_kwrd)\n",
    "\n",
    "limerick_tkns = df_tkns['limerick_tk_added'].iloc[0]\n",
    "limerick_tkns\n",
    "#~~~~~~~~~~~~~~~~~~~~~~~~~~~~~~~~\n"
   ]
  },
  {
   "cell_type": "code",
   "execution_count": 5,
   "metadata": {},
   "outputs": [
    {
     "data": {
      "text/plain": [
       "\"<LS> <KS> bovine <KE> If a bovine in some leafy [MASK] <L0> Should swallow a live hand-[MASK] <L1> Then surely it's [MASK] <L2> (Though the word makes me [MASK]); <L3> It's abominable — that's what he's [MASK]. <L4> <LE> \""
      ]
     },
     "execution_count": 5,
     "metadata": {},
     "output_type": "execute_result"
    }
   ],
   "source": [
    "### MASK WORDS ###\n",
    "\n",
    "from smartbard.data_processing.bert_preproc import zorro\n",
    "\n",
    "masked_limerick = zorro(limerick_tkns)[0]\n",
    "masked_limerick\n"
   ]
  },
  {
   "cell_type": "code",
   "execution_count": 6,
   "metadata": {},
   "outputs": [
    {
     "name": "stdout",
     "output_type": "stream",
     "text": [
      "If a bovine in some leafy [MASK] \n",
      "Should swallow a live hand-[MASK] \n",
      "Then surely it's [MASK] \n",
      "(Though the word makes me [MASK]); \n",
      "It's abominable — that's what he's [MASK].\n"
     ]
    }
   ],
   "source": [
    "### CLEAN TEXT FOR BERT ###\n",
    "\n",
    "from smartbard.data_processing.bert_preproc import limerick_cleaner\n",
    "\n",
    "masked_limerick_clean = limerick_cleaner(masked_limerick)\n",
    "print(masked_limerick_clean)\n"
   ]
  },
  {
   "cell_type": "code",
   "execution_count": 7,
   "metadata": {},
   "outputs": [
    {
     "name": "stderr",
     "output_type": "stream",
     "text": [
      "/Users/Marco/.pyenv/versions/3.10.6/envs/smartbard/lib/python3.10/site-packages/tqdm/auto.py:22: TqdmWarning: IProgress not found. Please update jupyter and ipywidgets. See https://ipywidgets.readthedocs.io/en/stable/user_install.html\n",
      "  from .autonotebook import tqdm as notebook_tqdm\n",
      "Some weights of the model checkpoint at bert-base-uncased were not used when initializing BertForMaskedLM: ['cls.seq_relationship.weight', 'cls.seq_relationship.bias']\n",
      "- This IS expected if you are initializing BertForMaskedLM from the checkpoint of a model trained on another task or with another architecture (e.g. initializing a BertForSequenceClassification model from a BertForPreTraining model).\n",
      "- This IS NOT expected if you are initializing BertForMaskedLM from the checkpoint of a model that you expect to be exactly identical (initializing a BertForSequenceClassification model from a BertForSequenceClassification model).\n"
     ]
    },
    {
     "data": {
      "text/plain": [
       "([('country', 0.09774240106344223),\n",
       "  ('world', 0.04276498407125473),\n",
       "  ('place', 0.024797478690743446),\n",
       "  ('south', 0.013667088933289051),\n",
       "  ('city', 0.013608594425022602),\n",
       "  ('part', 0.00873620342463255),\n",
       "  ('corner', 0.008076431229710579),\n",
       "  ('earth', 0.007418944966048002),\n",
       "  ('land', 0.007037917152047157),\n",
       "  ('way', 0.006921724881976843),\n",
       "  ('places', 0.006864884868264198),\n",
       "  ('that', 0.005984313320368528),\n",
       "  ('spring', 0.005882159806787968),\n",
       "  ('north', 0.005221132189035416),\n",
       "  ('one', 0.005194451659917831),\n",
       "  ('there', 0.004820651840418577),\n",
       "  ('somewhere', 0.004697255790233612),\n",
       "  ('continent', 0.004646145273000002),\n",
       "  ('it', 0.004198145121335983),\n",
       "  ('town', 0.004193942528218031),\n",
       "  ('tree', 0.004188721068203449),\n",
       "  ('sea', 0.004157190211117268),\n",
       "  ('west', 0.003955739550292492),\n",
       "  ('all', 0.00395383033901453),\n",
       "  (',', 0.003920763731002808),\n",
       "  ('mountain', 0.0038950503803789616),\n",
       "  ('field', 0.0038088886067271233),\n",
       "  ('forest', 0.0037242593243718147),\n",
       "  ('some', 0.0037160292267799377),\n",
       "  ('mountains', 0.0036231065168976784),\n",
       "  ('and', 0.0035689957439899445),\n",
       "  ('water', 0.003324636025354266),\n",
       "  ('which', 0.0031552265863865614),\n",
       "  ('countries', 0.0031532635912299156),\n",
       "  ('desert', 0.003134136088192463),\n",
       "  ('little', 0.0030515885446220636),\n",
       "  ('jungle', 0.0029688249342143536),\n",
       "  ('tale', 0.002907093847170472),\n",
       "  ('wild', 0.0028596206102520227),\n",
       "  ('east', 0.0027516004629433155),\n",
       "  ('garden', 0.0026380729395896196),\n",
       "  ('wilderness', 0.0025265177246183157),\n",
       "  ('folk', 0.0024522379972040653),\n",
       "  ('thing', 0.002448888262733817),\n",
       "  ('scotland', 0.0022377970162779093),\n",
       "  ('trees', 0.0022091036662459373),\n",
       "  ('region', 0.0021996130235493183),\n",
       "  ('people', 0.0021913754753768444),\n",
       "  ('-', 0.0021875137463212013),\n",
       "  ('province', 0.0021148109808564186)],\n",
       " [('and', 0.7103538513183594),\n",
       "  ('but', 0.14884884655475616),\n",
       "  ('-', 0.07035105675458908),\n",
       "  ('because', 0.00607733940705657),\n",
       "  ('or', 0.004154745955020189),\n",
       "  (\"'\", 0.0035004224628210068),\n",
       "  (',', 0.0027843399439007044),\n",
       "  ('except', 0.002598998136818409),\n",
       "  ('(', 0.0024433904327452183),\n",
       "  (')', 0.002310694195330143),\n",
       "  ('well', 0.002147038234397769),\n",
       "  ('\"', 0.001827545347623527),\n",
       "  ('so', 0.0016654563369229436),\n",
       "  ('now', 0.0015054770046845078),\n",
       "  (':', 0.001426410162821412),\n",
       "  ('only', 0.001382800517603755),\n",
       "  ('for', 0.0013225191505625844),\n",
       "  ('that', 0.001090182806365192),\n",
       "  ('no', 0.0009908494539558887),\n",
       "  ('then', 0.0009132908890023828),\n",
       "  ('which', 0.0009073480032384396),\n",
       "  ('.', 0.0008360719075426459),\n",
       "  ('all', 0.00079968327190727),\n",
       "  ('though', 0.0006995124858804047),\n",
       "  ('what', 0.0006968428497202694),\n",
       "  ('it', 0.0006569225224666297),\n",
       "  ('even', 0.00064899428980425),\n",
       "  ('yes', 0.0005987037438899279),\n",
       "  ('not', 0.0005891747423447669),\n",
       "  ('just', 0.0005278224125504494),\n",
       "  ('by', 0.000525397714227438),\n",
       "  ('if', 0.0004906365647912025),\n",
       "  ('oh', 0.00046493555419147015),\n",
       "  ('!', 0.00045414388296194375),\n",
       "  ('right', 0.0004383277555461973),\n",
       "  ('there', 0.00040032409015111625),\n",
       "  ('as', 0.0003853743546642363),\n",
       "  ('in', 0.00034871362731792033),\n",
       "  ('...', 0.0003476129495538771),\n",
       "  ('although', 0.0003469487128313631),\n",
       "  ('yet', 0.00034116365713998675),\n",
       "  ('/', 0.00033692875877022743),\n",
       "  ('why', 0.0002925868611782789),\n",
       "  ('maybe', 0.00027294043684378266),\n",
       "  (';', 0.00025888445088639855),\n",
       "  ('back', 0.00025097315665334463),\n",
       "  ('until', 0.00024101464077830315),\n",
       "  ('roland', 0.00023742654593661427),\n",
       "  ('the', 0.0002366800617892295),\n",
       "  ('anyway', 0.00022901478223502636)],\n",
       " [('not', 0.20143307745456696),\n",
       "  ('true', 0.17115598917007446),\n",
       "  ('no', 0.033191148191690445),\n",
       "  ('right', 0.030810222029685974),\n",
       "  ('wrong', 0.02021772973239422),\n",
       "  ('impossible', 0.017762841656804085),\n",
       "  ('real', 0.016708435490727425),\n",
       "  ('nothing', 0.014582679606974125),\n",
       "  ('that', 0.013886487111449242),\n",
       "  ('there', 0.01251312717795372),\n",
       "  ('this', 0.008737124502658844),\n",
       "  ('so', 0.008322243578732014),\n",
       "  ('false', 0.007330502383410931),\n",
       "  ('it', 0.00720414612442255),\n",
       "  ('him', 0.0071710548363626),\n",
       "  ('just', 0.0055877696722745895),\n",
       "  ('all', 0.00520211411640048),\n",
       "  ('only', 0.005015378352254629),\n",
       "  ('enough', 0.004988174419850111),\n",
       "  ('here', 0.004488721489906311),\n",
       "  ('possible', 0.004376088734716177),\n",
       "  ('crazy', 0.003551959991455078),\n",
       "  ('magic', 0.0034633264876902103),\n",
       "  ('simple', 0.0034089498221874237),\n",
       "  ('different', 0.003405716735869646),\n",
       "  ('absurd', 0.003367817495018244),\n",
       "  ('nonsense', 0.003289824351668358),\n",
       "  ('said', 0.003284111153334379),\n",
       "  ('truth', 0.003102886723354459),\n",
       "  ('dead', 0.003062931587919593),\n",
       "  ('funny', 0.0030524367466568947),\n",
       "  ('nobody', 0.0027833892963826656),\n",
       "  ('-', 0.002778627211228013),\n",
       "  ('the', 0.002631615847349167),\n",
       "  ('like', 0.0025015182327479124),\n",
       "  (',', 0.0023524232674390078),\n",
       "  ('gone', 0.0022914581932127476),\n",
       "  ('evil', 0.0022153696045279503),\n",
       "  ('yes', 0.0021886308677494526),\n",
       "  ('me', 0.0021861589048057795),\n",
       "  ('bad', 0.0021424144506454468),\n",
       "  ('useless', 0.0021165097132325172),\n",
       "  ('he', 0.002049691043794155),\n",
       "  ('okay', 0.0020472053438425064),\n",
       "  ('because', 0.0020412495359778404),\n",
       "  ('his', 0.0019227075390517712),\n",
       "  ('and', 0.0018929726211354136),\n",
       "  ('what', 0.0018261015648022294),\n",
       "  ('natural', 0.001798692625015974),\n",
       "  ('stupid', 0.0017558843828737736)],\n",
       " [('laugh', 0.10880423337221146),\n",
       "  ('say', 0.04775061458349228),\n",
       "  ('smile', 0.03347264975309372),\n",
       "  ('think', 0.030663691461086273),\n",
       "  ('wonder', 0.02562081627547741),\n",
       "  ('sick', 0.01814611256122589),\n",
       "  ('feel', 0.01567164994776249),\n",
       "  ('sing', 0.015581882558763027),\n",
       "  ('cry', 0.013458927161991596),\n",
       "  (',', 0.012633800506591797),\n",
       "  ('see', 0.012321816757321358),\n",
       "  ('-', 0.011103334836661816),\n",
       "  ('dizzy', 0.009241491556167603),\n",
       "  ('die', 0.008392094634473324),\n",
       "  ('look', 0.008047149516642094),\n",
       "  ('mean', 0.006366751156747341),\n",
       "  ('shiver', 0.006174678914248943),\n",
       "  ('ask', 0.005396678578108549),\n",
       "  ('and', 0.0048757279291749),\n",
       "  ('stop', 0.004700036719441414),\n",
       "  ('thinking', 0.004606248345226049),\n",
       "  ('remember', 0.0045366184785962105),\n",
       "  ('pause', 0.004474693909287453),\n",
       "  ('awake', 0.004331907723098993),\n",
       "  ('ill', 0.004065980669111013),\n",
       "  ('know', 0.004061980172991753),\n",
       "  ('start', 0.004047779366374016),\n",
       "  ('shout', 0.0036939249839633703),\n",
       "  ('gasp', 0.0036502419970929623),\n",
       "  ('hurt', 0.0035728521179407835),\n",
       "  ('understand', 0.0034908466041088104),\n",
       "  ('guess', 0.00337555562146008),\n",
       "  ('snort', 0.0033659199252724648),\n",
       "  ('try', 0.003338805865496397),\n",
       "  ('mad', 0.003224785905331373),\n",
       "  ('scream', 0.003112355014309287),\n",
       "  (')', 0.0030848183669149876),\n",
       "  ('listen', 0.0029949569143354893),\n",
       "  ('faint', 0.002941291080787778),\n",
       "  ('crazy', 0.0028956755995750427),\n",
       "  ('it', 0.002856198465451598),\n",
       "  ('not', 0.0027365160640329123),\n",
       "  ('back', 0.00270244968123734),\n",
       "  ('believe', 0.0025174429174512625),\n",
       "  ('ralph', 0.002477804897353053),\n",
       "  ('himself', 0.002474109409376979),\n",
       "  ('here', 0.0024609200190752745),\n",
       "  ('laughing', 0.0024136032443493605),\n",
       "  ('up', 0.0023943763226270676),\n",
       "  ('shudder', 0.0023850693833082914)],\n",
       " [('saying', 0.22070632874965668),\n",
       "  ('thinking', 0.0720880925655365),\n",
       "  ('doing', 0.04707099497318268),\n",
       "  ('said', 0.04156054928898811),\n",
       "  ('.', 0.035538166761398315),\n",
       "  ('for', 0.026408778503537178),\n",
       "  ('talking', 0.020251596346497536),\n",
       "  ('going', 0.018250195309519768),\n",
       "  ('like', 0.017688561230897903),\n",
       "  ('done', 0.017529528588056564),\n",
       "  ('in', 0.017298279330134392),\n",
       "  ('and', 0.014519012533128262),\n",
       "  ('here', 0.013764913193881512),\n",
       "  ('there', 0.01261595357209444),\n",
       "  (',', 0.012115711346268654),\n",
       "  ('not', 0.0100905392318964),\n",
       "  ('about', 0.00963578186929226),\n",
       "  ('-', 0.008146869018673897),\n",
       "  ('gone', 0.007349288556724787),\n",
       "  ('just', 0.006473752669990063),\n",
       "  ('right', 0.006219334900379181),\n",
       "  ('called', 0.005259420722723007),\n",
       "  ('that', 0.004992043133825064),\n",
       "  ('at', 0.004690306261181831),\n",
       "  ('asking', 0.004591107834130526),\n",
       "  ('the', 0.00446908175945282),\n",
       "  ('looking', 0.004431320354342461),\n",
       "  ('dead', 0.003768283873796463),\n",
       "  ('now', 0.003662066301330924),\n",
       "  ('on', 0.0035634159576147795),\n",
       "  ('he', 0.003422851674258709),\n",
       "  ('all', 0.00319438218139112),\n",
       "  ('him', 0.003103500697761774),\n",
       "  ('his', 0.0030573413241654634),\n",
       "  ('it', 0.0029617086984217167),\n",
       "  ('told', 0.002947611268609762),\n",
       "  ('mr', 0.0029165789019316435),\n",
       "  ('says', 0.0028125084936618805),\n",
       "  ('from', 0.0026020247023552656),\n",
       "  ('leaving', 0.0025701115373522043),\n",
       "  ('to', 0.002549383556470275),\n",
       "  ('feeling', 0.002476300112903118),\n",
       "  ('say', 0.0024707813281565905),\n",
       "  ('watching', 0.002339419210329652),\n",
       "  ('is', 0.0022892020642757416),\n",
       "  ('moving', 0.0022748252376914024),\n",
       "  ('speaking', 0.0022667553275823593),\n",
       "  ('trying', 0.002240451518446207),\n",
       "  ('thought', 0.0022374759428203106),\n",
       "  ('with', 0.002221872564405203)])"
      ]
     },
     "execution_count": 7,
     "metadata": {},
     "output_type": "execute_result"
    }
   ],
   "source": [
    "### PREDICT WORDS WITH BERT ###\n",
    "\n",
    "from smartbard.bert_model.bert_predict_masked_words import rhyme_word_pred\n",
    "bert_words = rhyme_word_pred(masked_limerick_clean)\n",
    "bert_words\n"
   ]
  },
  {
   "cell_type": "code",
   "execution_count": 8,
   "metadata": {},
   "outputs": [
    {
     "data": {
      "text/plain": [
       "\"If a bovine in some leafy land \\nShould swallow a live hand-and \\nThen surely it's real \\n(Though the word makes me feel); \\nIt's abominable — that's what he's and.\""
      ]
     },
     "execution_count": 8,
     "metadata": {},
     "output_type": "execute_result"
    }
   ],
   "source": [
    "### PICK BEST RHYMES AND PRODUCE FINAL LIMERICK ###\n",
    "\n",
    "from smartbard.data_processing.rhymes import make_rhymes\n",
    "\n",
    "final_limerick = make_rhymes(masked_limerick_clean, bert_words)\n",
    "final_limerick"
   ]
  }
 ],
 "metadata": {
  "kernelspec": {
   "display_name": "Python 3.10.6 64-bit ('smartbard')",
   "language": "python",
   "name": "python3"
  },
  "language_info": {
   "codemirror_mode": {
    "name": "ipython",
    "version": 3
   },
   "file_extension": ".py",
   "mimetype": "text/x-python",
   "name": "python",
   "nbconvert_exporter": "python",
   "pygments_lexer": "ipython3",
   "version": "3.10.6"
  },
  "orig_nbformat": 4,
  "vscode": {
   "interpreter": {
    "hash": "24f0a4b62e4010e93576611bcdc48e6f6a12ca25bf673138b4d5728aafed3228"
   }
  }
 },
 "nbformat": 4,
 "nbformat_minor": 2
}
